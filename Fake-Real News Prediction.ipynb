{
 "cells": [
  {
   "cell_type": "markdown",
   "id": "involved-examination",
   "metadata": {},
   "source": [
    "# Fake and Real news detection"
   ]
  },
  {
   "cell_type": "markdown",
   "id": "later-march",
   "metadata": {},
   "source": [
    "## Problem statement\n",
    "\n",
    "Acknowledgements\n",
    "\n",
    "Ahmed H, Traore I, Saad S. “Detecting opinion spams and fake news using text classification”, Journal of Security and Privacy, Volume 1, Issue 1, Wiley, January/February 2018.\n",
    "Ahmed H, Traore I, Saad S. (2017) “Detection of Online Fake News Using N-Gram Analysis and Machine Learning Techniques. In: Traore I., Woungang I., Awad A. (eds) Intelligent, Secure, and Dependable Systems in Distributed and Cloud Environments. ISDDC 2017. Lecture Notes in Computer Science, vol 10618. Springer, Cham (pp. 127-138).\n",
    "Inspiration\n",
    "\n",
    "Can you use this data set to make an algorithm able to determine if an article is fake news or not ?"
   ]
  },
  {
   "cell_type": "markdown",
   "id": "exceptional-stamp",
   "metadata": {},
   "source": [
    "## Data\n",
    "\n",
    "**link** to Kaggle: https://www.kaggle.com/clmentbisaillon/fake-and-real-news-dataset"
   ]
  },
  {
   "cell_type": "markdown",
   "id": "enhanced-server",
   "metadata": {},
   "source": [
    "## Project Content\n",
    "\n",
    "1) Data Importing\n",
    "\n",
    "2) Exploratory Data Analysis\n",
    "\n",
    "3) Data Preprocessing via Tf-Idf transformation\n",
    "\n",
    "4) Random Forest Classifier initialization\n",
    "\n",
    "5) ROC curve and the best threshold\n",
    "\n",
    "6) Conclusion"
   ]
  },
  {
   "cell_type": "markdown",
   "id": "looking-inspection",
   "metadata": {},
   "source": [
    "## Data Importing and Preprocessing"
   ]
  },
  {
   "cell_type": "code",
   "execution_count": 1,
   "id": "discrete-slovakia",
   "metadata": {},
   "outputs": [],
   "source": [
    "#importing the basic libraries\n",
    "import pandas as pd\n",
    "import numpy as np\n",
    "import seaborn as sns\n",
    "import matplotlib.pyplot as plt"
   ]
  },
  {
   "cell_type": "code",
   "execution_count": 2,
   "id": "executed-programmer",
   "metadata": {},
   "outputs": [],
   "source": [
    "#importing 2 datasets with both fake and real news\n",
    "fake = pd.read_csv(\"/Users/polyanaboss/Downloads/archive/Fake.csv\")\n",
    "true = pd.read_csv(\"/Users/polyanaboss/Downloads/archive/True.csv\")"
   ]
  },
  {
   "cell_type": "code",
   "execution_count": 3,
   "id": "systematic-republic",
   "metadata": {},
   "outputs": [
    {
     "data": {
      "text/html": [
       "<div>\n",
       "<style scoped>\n",
       "    .dataframe tbody tr th:only-of-type {\n",
       "        vertical-align: middle;\n",
       "    }\n",
       "\n",
       "    .dataframe tbody tr th {\n",
       "        vertical-align: top;\n",
       "    }\n",
       "\n",
       "    .dataframe thead th {\n",
       "        text-align: right;\n",
       "    }\n",
       "</style>\n",
       "<table border=\"1\" class=\"dataframe\">\n",
       "  <thead>\n",
       "    <tr style=\"text-align: right;\">\n",
       "      <th></th>\n",
       "      <th>title</th>\n",
       "      <th>text</th>\n",
       "      <th>subject</th>\n",
       "      <th>date</th>\n",
       "    </tr>\n",
       "  </thead>\n",
       "  <tbody>\n",
       "    <tr>\n",
       "      <th>0</th>\n",
       "      <td>Donald Trump Sends Out Embarrassing New Year’...</td>\n",
       "      <td>Donald Trump just couldn t wish all Americans ...</td>\n",
       "      <td>News</td>\n",
       "      <td>December 31, 2017</td>\n",
       "    </tr>\n",
       "    <tr>\n",
       "      <th>1</th>\n",
       "      <td>Drunk Bragging Trump Staffer Started Russian ...</td>\n",
       "      <td>House Intelligence Committee Chairman Devin Nu...</td>\n",
       "      <td>News</td>\n",
       "      <td>December 31, 2017</td>\n",
       "    </tr>\n",
       "    <tr>\n",
       "      <th>2</th>\n",
       "      <td>Sheriff David Clarke Becomes An Internet Joke...</td>\n",
       "      <td>On Friday, it was revealed that former Milwauk...</td>\n",
       "      <td>News</td>\n",
       "      <td>December 30, 2017</td>\n",
       "    </tr>\n",
       "    <tr>\n",
       "      <th>3</th>\n",
       "      <td>Trump Is So Obsessed He Even Has Obama’s Name...</td>\n",
       "      <td>On Christmas day, Donald Trump announced that ...</td>\n",
       "      <td>News</td>\n",
       "      <td>December 29, 2017</td>\n",
       "    </tr>\n",
       "    <tr>\n",
       "      <th>4</th>\n",
       "      <td>Pope Francis Just Called Out Donald Trump Dur...</td>\n",
       "      <td>Pope Francis used his annual Christmas Day mes...</td>\n",
       "      <td>News</td>\n",
       "      <td>December 25, 2017</td>\n",
       "    </tr>\n",
       "  </tbody>\n",
       "</table>\n",
       "</div>"
      ],
      "text/plain": [
       "                                               title  \\\n",
       "0   Donald Trump Sends Out Embarrassing New Year’...   \n",
       "1   Drunk Bragging Trump Staffer Started Russian ...   \n",
       "2   Sheriff David Clarke Becomes An Internet Joke...   \n",
       "3   Trump Is So Obsessed He Even Has Obama’s Name...   \n",
       "4   Pope Francis Just Called Out Donald Trump Dur...   \n",
       "\n",
       "                                                text subject  \\\n",
       "0  Donald Trump just couldn t wish all Americans ...    News   \n",
       "1  House Intelligence Committee Chairman Devin Nu...    News   \n",
       "2  On Friday, it was revealed that former Milwauk...    News   \n",
       "3  On Christmas day, Donald Trump announced that ...    News   \n",
       "4  Pope Francis used his annual Christmas Day mes...    News   \n",
       "\n",
       "                date  \n",
       "0  December 31, 2017  \n",
       "1  December 31, 2017  \n",
       "2  December 30, 2017  \n",
       "3  December 29, 2017  \n",
       "4  December 25, 2017  "
      ]
     },
     "execution_count": 3,
     "metadata": {},
     "output_type": "execute_result"
    }
   ],
   "source": [
    "#looking at the first rows\n",
    "fake.head()"
   ]
  },
  {
   "cell_type": "code",
   "execution_count": 4,
   "id": "declared-malaysia",
   "metadata": {},
   "outputs": [
    {
     "data": {
      "text/html": [
       "<div>\n",
       "<style scoped>\n",
       "    .dataframe tbody tr th:only-of-type {\n",
       "        vertical-align: middle;\n",
       "    }\n",
       "\n",
       "    .dataframe tbody tr th {\n",
       "        vertical-align: top;\n",
       "    }\n",
       "\n",
       "    .dataframe thead th {\n",
       "        text-align: right;\n",
       "    }\n",
       "</style>\n",
       "<table border=\"1\" class=\"dataframe\">\n",
       "  <thead>\n",
       "    <tr style=\"text-align: right;\">\n",
       "      <th></th>\n",
       "      <th>title</th>\n",
       "      <th>text</th>\n",
       "      <th>subject</th>\n",
       "      <th>date</th>\n",
       "    </tr>\n",
       "  </thead>\n",
       "  <tbody>\n",
       "    <tr>\n",
       "      <th>0</th>\n",
       "      <td>As U.S. budget fight looms, Republicans flip t...</td>\n",
       "      <td>WASHINGTON (Reuters) - The head of a conservat...</td>\n",
       "      <td>politicsNews</td>\n",
       "      <td>December 31, 2017</td>\n",
       "    </tr>\n",
       "    <tr>\n",
       "      <th>1</th>\n",
       "      <td>U.S. military to accept transgender recruits o...</td>\n",
       "      <td>WASHINGTON (Reuters) - Transgender people will...</td>\n",
       "      <td>politicsNews</td>\n",
       "      <td>December 29, 2017</td>\n",
       "    </tr>\n",
       "    <tr>\n",
       "      <th>2</th>\n",
       "      <td>Senior U.S. Republican senator: 'Let Mr. Muell...</td>\n",
       "      <td>WASHINGTON (Reuters) - The special counsel inv...</td>\n",
       "      <td>politicsNews</td>\n",
       "      <td>December 31, 2017</td>\n",
       "    </tr>\n",
       "    <tr>\n",
       "      <th>3</th>\n",
       "      <td>FBI Russia probe helped by Australian diplomat...</td>\n",
       "      <td>WASHINGTON (Reuters) - Trump campaign adviser ...</td>\n",
       "      <td>politicsNews</td>\n",
       "      <td>December 30, 2017</td>\n",
       "    </tr>\n",
       "    <tr>\n",
       "      <th>4</th>\n",
       "      <td>Trump wants Postal Service to charge 'much mor...</td>\n",
       "      <td>SEATTLE/WASHINGTON (Reuters) - President Donal...</td>\n",
       "      <td>politicsNews</td>\n",
       "      <td>December 29, 2017</td>\n",
       "    </tr>\n",
       "  </tbody>\n",
       "</table>\n",
       "</div>"
      ],
      "text/plain": [
       "                                               title  \\\n",
       "0  As U.S. budget fight looms, Republicans flip t...   \n",
       "1  U.S. military to accept transgender recruits o...   \n",
       "2  Senior U.S. Republican senator: 'Let Mr. Muell...   \n",
       "3  FBI Russia probe helped by Australian diplomat...   \n",
       "4  Trump wants Postal Service to charge 'much mor...   \n",
       "\n",
       "                                                text       subject  \\\n",
       "0  WASHINGTON (Reuters) - The head of a conservat...  politicsNews   \n",
       "1  WASHINGTON (Reuters) - Transgender people will...  politicsNews   \n",
       "2  WASHINGTON (Reuters) - The special counsel inv...  politicsNews   \n",
       "3  WASHINGTON (Reuters) - Trump campaign adviser ...  politicsNews   \n",
       "4  SEATTLE/WASHINGTON (Reuters) - President Donal...  politicsNews   \n",
       "\n",
       "                 date  \n",
       "0  December 31, 2017   \n",
       "1  December 29, 2017   \n",
       "2  December 31, 2017   \n",
       "3  December 30, 2017   \n",
       "4  December 29, 2017   "
      ]
     },
     "execution_count": 4,
     "metadata": {},
     "output_type": "execute_result"
    }
   ],
   "source": [
    "#the same for real news\n",
    "true.head()"
   ]
  },
  {
   "cell_type": "markdown",
   "id": "prescribed-korean",
   "metadata": {},
   "source": [
    "## Assigning the labels for each type of news\n",
    "\n",
    "Since our data does not have labels **true/fake** news, we will assign them manually."
   ]
  },
  {
   "cell_type": "code",
   "execution_count": 5,
   "id": "joined-directive",
   "metadata": {},
   "outputs": [],
   "source": [
    "fake[\"label\"] = 0 # zero if the news are fake\n",
    "true[\"label\"] = 1 # one of it is real"
   ]
  },
  {
   "cell_type": "code",
   "execution_count": 7,
   "id": "sharing-growing",
   "metadata": {},
   "outputs": [],
   "source": [
    "#concatenating and reshuffling the data\n",
    "df = pd.concat((fake, true), axis = 0)"
   ]
  },
  {
   "cell_type": "code",
   "execution_count": 8,
   "id": "devoted-dealer",
   "metadata": {},
   "outputs": [],
   "source": [
    "#reshuffle\n",
    "from sklearn.utils import shuffle\n",
    "\n",
    "df = shuffle(df)"
   ]
  },
  {
   "cell_type": "code",
   "execution_count": 11,
   "id": "romantic-specialist",
   "metadata": {},
   "outputs": [
    {
     "data": {
      "text/html": [
       "<div>\n",
       "<style scoped>\n",
       "    .dataframe tbody tr th:only-of-type {\n",
       "        vertical-align: middle;\n",
       "    }\n",
       "\n",
       "    .dataframe tbody tr th {\n",
       "        vertical-align: top;\n",
       "    }\n",
       "\n",
       "    .dataframe thead th {\n",
       "        text-align: right;\n",
       "    }\n",
       "</style>\n",
       "<table border=\"1\" class=\"dataframe\">\n",
       "  <thead>\n",
       "    <tr style=\"text-align: right;\">\n",
       "      <th></th>\n",
       "      <th>title</th>\n",
       "      <th>text</th>\n",
       "      <th>subject</th>\n",
       "      <th>date</th>\n",
       "      <th>label</th>\n",
       "    </tr>\n",
       "  </thead>\n",
       "  <tbody>\n",
       "    <tr>\n",
       "      <th>5464</th>\n",
       "      <td>Ryan: Trump made right decision to seek Flynn ...</td>\n",
       "      <td>WASHINGTON (Reuters) - U.S. House of Represent...</td>\n",
       "      <td>politicsNews</td>\n",
       "      <td>February 14, 2017</td>\n",
       "      <td>1</td>\n",
       "    </tr>\n",
       "    <tr>\n",
       "      <th>22205</th>\n",
       "      <td>21WIRE.TV Members Newsletter – Feb 18, 2017</td>\n",
       "      <td>In this newsletter we ll include key updates o...</td>\n",
       "      <td>US_News</td>\n",
       "      <td>February 18, 2017</td>\n",
       "      <td>0</td>\n",
       "    </tr>\n",
       "    <tr>\n",
       "      <th>18172</th>\n",
       "      <td>OKLAHOMA Supreme Court Rules Punishing Smokers...</td>\n",
       "      <td>OKLAHOMA CITY   The Oklahoma Supreme Court rul...</td>\n",
       "      <td>left-news</td>\n",
       "      <td>Aug 10, 2017</td>\n",
       "      <td>0</td>\n",
       "    </tr>\n",
       "    <tr>\n",
       "      <th>9064</th>\n",
       "      <td>BROTHER OF HERO COACH Breaks Down Over Tribute...</td>\n",
       "      <td>The hero football coach who threw himself betw...</td>\n",
       "      <td>politics</td>\n",
       "      <td>17-Feb-18</td>\n",
       "      <td>0</td>\n",
       "    </tr>\n",
       "    <tr>\n",
       "      <th>76</th>\n",
       "      <td>WATCH: Nicolle Wallace Takes Trump To The Woo...</td>\n",
       "      <td>Donald Trump just got his ass handed to him by...</td>\n",
       "      <td>News</td>\n",
       "      <td>November 21, 2017</td>\n",
       "      <td>0</td>\n",
       "    </tr>\n",
       "  </tbody>\n",
       "</table>\n",
       "</div>"
      ],
      "text/plain": [
       "                                                   title  \\\n",
       "5464   Ryan: Trump made right decision to seek Flynn ...   \n",
       "22205        21WIRE.TV Members Newsletter – Feb 18, 2017   \n",
       "18172  OKLAHOMA Supreme Court Rules Punishing Smokers...   \n",
       "9064   BROTHER OF HERO COACH Breaks Down Over Tribute...   \n",
       "76      WATCH: Nicolle Wallace Takes Trump To The Woo...   \n",
       "\n",
       "                                                    text       subject  \\\n",
       "5464   WASHINGTON (Reuters) - U.S. House of Represent...  politicsNews   \n",
       "22205  In this newsletter we ll include key updates o...       US_News   \n",
       "18172  OKLAHOMA CITY   The Oklahoma Supreme Court rul...     left-news   \n",
       "9064   The hero football coach who threw himself betw...      politics   \n",
       "76     Donald Trump just got his ass handed to him by...          News   \n",
       "\n",
       "                     date  label  \n",
       "5464   February 14, 2017       1  \n",
       "22205   February 18, 2017      0  \n",
       "18172        Aug 10, 2017      0  \n",
       "9064            17-Feb-18      0  \n",
       "76      November 21, 2017      0  "
      ]
     },
     "execution_count": 11,
     "metadata": {},
     "output_type": "execute_result"
    }
   ],
   "source": [
    "#checking the final dataset\n",
    "df.head()"
   ]
  },
  {
   "cell_type": "code",
   "execution_count": 15,
   "id": "accredited-effect",
   "metadata": {},
   "outputs": [
    {
     "data": {
      "text/html": [
       "<div>\n",
       "<style scoped>\n",
       "    .dataframe tbody tr th:only-of-type {\n",
       "        vertical-align: middle;\n",
       "    }\n",
       "\n",
       "    .dataframe tbody tr th {\n",
       "        vertical-align: top;\n",
       "    }\n",
       "\n",
       "    .dataframe thead th {\n",
       "        text-align: right;\n",
       "    }\n",
       "</style>\n",
       "<table border=\"1\" class=\"dataframe\">\n",
       "  <thead>\n",
       "    <tr style=\"text-align: right;\">\n",
       "      <th></th>\n",
       "      <th>title</th>\n",
       "      <th>text</th>\n",
       "      <th>subject</th>\n",
       "      <th>date</th>\n",
       "      <th>label</th>\n",
       "    </tr>\n",
       "  </thead>\n",
       "  <tbody>\n",
       "    <tr>\n",
       "      <th>0</th>\n",
       "      <td>Ryan: Trump made right decision to seek Flynn ...</td>\n",
       "      <td>WASHINGTON (Reuters) - U.S. House of Represent...</td>\n",
       "      <td>politicsNews</td>\n",
       "      <td>February 14, 2017</td>\n",
       "      <td>1</td>\n",
       "    </tr>\n",
       "    <tr>\n",
       "      <th>1</th>\n",
       "      <td>21WIRE.TV Members Newsletter – Feb 18, 2017</td>\n",
       "      <td>In this newsletter we ll include key updates o...</td>\n",
       "      <td>US_News</td>\n",
       "      <td>February 18, 2017</td>\n",
       "      <td>0</td>\n",
       "    </tr>\n",
       "    <tr>\n",
       "      <th>2</th>\n",
       "      <td>OKLAHOMA Supreme Court Rules Punishing Smokers...</td>\n",
       "      <td>OKLAHOMA CITY   The Oklahoma Supreme Court rul...</td>\n",
       "      <td>left-news</td>\n",
       "      <td>Aug 10, 2017</td>\n",
       "      <td>0</td>\n",
       "    </tr>\n",
       "    <tr>\n",
       "      <th>3</th>\n",
       "      <td>BROTHER OF HERO COACH Breaks Down Over Tribute...</td>\n",
       "      <td>The hero football coach who threw himself betw...</td>\n",
       "      <td>politics</td>\n",
       "      <td>17-Feb-18</td>\n",
       "      <td>0</td>\n",
       "    </tr>\n",
       "    <tr>\n",
       "      <th>4</th>\n",
       "      <td>WATCH: Nicolle Wallace Takes Trump To The Woo...</td>\n",
       "      <td>Donald Trump just got his ass handed to him by...</td>\n",
       "      <td>News</td>\n",
       "      <td>November 21, 2017</td>\n",
       "      <td>0</td>\n",
       "    </tr>\n",
       "  </tbody>\n",
       "</table>\n",
       "</div>"
      ],
      "text/plain": [
       "                                               title  \\\n",
       "0  Ryan: Trump made right decision to seek Flynn ...   \n",
       "1        21WIRE.TV Members Newsletter – Feb 18, 2017   \n",
       "2  OKLAHOMA Supreme Court Rules Punishing Smokers...   \n",
       "3  BROTHER OF HERO COACH Breaks Down Over Tribute...   \n",
       "4   WATCH: Nicolle Wallace Takes Trump To The Woo...   \n",
       "\n",
       "                                                text       subject  \\\n",
       "0  WASHINGTON (Reuters) - U.S. House of Represent...  politicsNews   \n",
       "1  In this newsletter we ll include key updates o...       US_News   \n",
       "2  OKLAHOMA CITY   The Oklahoma Supreme Court rul...     left-news   \n",
       "3  The hero football coach who threw himself betw...      politics   \n",
       "4  Donald Trump just got his ass handed to him by...          News   \n",
       "\n",
       "                 date  label  \n",
       "0  February 14, 2017       1  \n",
       "1   February 18, 2017      0  \n",
       "2        Aug 10, 2017      0  \n",
       "3           17-Feb-18      0  \n",
       "4   November 21, 2017      0  "
      ]
     },
     "execution_count": 15,
     "metadata": {},
     "output_type": "execute_result"
    }
   ],
   "source": [
    "#resetting the index\n",
    "df.reset_index(inplace = True, drop = True)\n",
    "df.drop(\"index\", axis = 1, inplace = True)\n",
    "df.head()"
   ]
  },
  {
   "cell_type": "markdown",
   "id": "strategic-seller",
   "metadata": {},
   "source": [
    "## Exploratory Data Analysis\n",
    "\n",
    "Now we can move on to the visualization and EDA part to get acquainted with the patterns of the data."
   ]
  },
  {
   "cell_type": "code",
   "execution_count": 28,
   "id": "valid-equation",
   "metadata": {},
   "outputs": [
    {
     "data": {
      "text/plain": [
       "<AxesSubplot:>"
      ]
     },
     "execution_count": 28,
     "metadata": {},
     "output_type": "execute_result"
    },
    {
     "data": {
      "image/png": "[encoded data removed]",
      "text/plain": [
       "<Figure size 432x288 with 1 Axes>"
      ]
     },
     "metadata": {
      "needs_background": "light"
     },
     "output_type": "display_data"
    }
   ],
   "source": [
    "#number of both classes\n",
    "df[\"label\"].value_counts().plot(kind = \"bar\", color = [\"r\", \"b\"])"
   ]
  },
  {
   "cell_type": "markdown",
   "id": "residential-invention",
   "metadata": {},
   "source": [
    "The data can be considered as more or less balanced. Hence, no imbalanced data treatment techniques are required."
   ]
  },
  {
   "cell_type": "code",
   "execution_count": 33,
   "id": "assisted-volleyball",
   "metadata": {},
   "outputs": [
    {
     "data": {
      "text/plain": [
       "(array([0, 1]), [Text(0, 0, 'politicsNews'), Text(1, 0, 'worldnews')])"
      ]
     },
     "execution_count": 33,
     "metadata": {},
     "output_type": "execute_result"
    },
    {
     "data": {
      "image/png": "[encoded data removed]",
      "text/plain": [
       "<Figure size 432x288 with 1 Axes>"
      ]
     },
     "metadata": {
      "needs_background": "light"
     },
     "output_type": "display_data"
    }
   ],
   "source": [
    "#visualizing the subject of true values\n",
    "df[\"subject\"][df[\"label\"] == 1].value_counts().plot(kind = \"bar\", color = [\"r\", \"b\"])\n",
    "plt.xticks(rotation = 0)"
   ]
  },
  {
   "cell_type": "code",
   "execution_count": 38,
   "id": "postal-process",
   "metadata": {},
   "outputs": [
    {
     "data": {
      "text/plain": [
       "<AxesSubplot:>"
      ]
     },
     "execution_count": 38,
     "metadata": {},
     "output_type": "execute_result"
    },
    {
     "data": {
      "image/png": "[encoded data removed]",
      "text/plain": [
       "<Figure size 432x288 with 1 Axes>"
      ]
     },
     "metadata": {
      "needs_background": "light"
     },
     "output_type": "display_data"
    }
   ],
   "source": [
    "#the same for fake news\n",
    "df[\"subject\"][df[\"label\"] == 0].value_counts(ascending = True).plot(kind = \"barh\", color = [\"r\", \"b\"])"
   ]
  },
  {
   "cell_type": "markdown",
   "id": "designed-instrument",
   "metadata": {},
   "source": [
    "One can see that there are only 2 subjects of real news with approximately the same number of items in each group(politics news and world news). Meanwhile, there are 6 themes for fake news on the above plot - news, politics, left-news, government news, US news and Middle East ones."
   ]
  },
  {
   "cell_type": "code",
   "execution_count": 44,
   "id": "exposed-circuit",
   "metadata": {},
   "outputs": [
    {
     "name": "stdout",
     "output_type": "stream",
     "text": [
      "Mean length of news title: 80.11171989843646\n",
      "Mean length of text: 2469.1096930820972\n"
     ]
    }
   ],
   "source": [
    "#mean length of title and news\n",
    "mean_title = []\n",
    "mean_text = []\n",
    "for i in range(len(df)):\n",
    "    mean_title.append(len(df[\"title\"][i]))\n",
    "    mean_text.append(len(df[\"text\"][i]))\n",
    "    \n",
    "print(f\"Mean length of news title: {sum(mean_title) / len(mean_title)}\\nMean length of text: {sum(mean_text) / len(mean_text)}\")\n"
   ]
  },
  {
   "cell_type": "markdown",
   "id": "becoming-tissue",
   "metadata": {},
   "source": [
    "Obviously, the length of title is extremely small comparing with that of text itself - about 80 characters against ~2469."
   ]
  },
  {
   "cell_type": "markdown",
   "id": "enclosed-worker",
   "metadata": {},
   "source": [
    "There are 2 possible options for building the model: either to predict the reality of news via its title or via its text. Firstly, the title will be used."
   ]
  },
  {
   "cell_type": "code",
   "execution_count": 51,
   "id": "female-buffalo",
   "metadata": {},
   "outputs": [
    {
     "name": "stdout",
     "output_type": "stream",
     "text": [
      "44898\n"
     ]
    }
   ],
   "source": [
    "#processing the title\n",
    "from nltk.stem.wordnet import WordNetLemmatizer\n",
    "import regex as re\n",
    "corpus=[]\n",
    "for i in range(len(df)):\n",
    "    # removing everything except alphabets\n",
    "    text = re.sub('[^a-zA-Z]',' ', df['title'][i])\n",
    "    text_words = text.split()\n",
    "    stem_words = [WordNetLemmatizer().lemmatize(word) for word in text_words]\n",
    "    text = ' '.join(stem_words)\n",
    "    corpus.append(text)\n",
    "    \n",
    "print(len(corpus))"
   ]
  },
  {
   "cell_type": "code",
   "execution_count": 53,
   "id": "matched-tracker",
   "metadata": {},
   "outputs": [],
   "source": [
    "#assigning cleaned data to dataframe\n",
    "df[\"title_cleaned\"] = corpus"
   ]
  },
  {
   "cell_type": "code",
   "execution_count": 54,
   "id": "incorporated-pride",
   "metadata": {},
   "outputs": [],
   "source": [
    "#splitting on the dependent and independent variables\n",
    "X = df[\"title_cleaned\"]\n",
    "y = df[\"label\"]"
   ]
  },
  {
   "cell_type": "code",
   "execution_count": 55,
   "id": "enhanced-worth",
   "metadata": {},
   "outputs": [
    {
     "name": "stdout",
     "output_type": "stream",
     "text": [
      "(35918,) (8980,)\n"
     ]
    }
   ],
   "source": [
    "#splitting on the train test parts\n",
    "from sklearn.model_selection import train_test_split\n",
    "\n",
    "X_train, X_test, y_train, y_test = train_test_split(X, y, test_size = .2, random_state = 0, stratify = y)\n",
    "\n",
    "print(X_train.shape, X_test.shape)"
   ]
  },
  {
   "cell_type": "code",
   "execution_count": 58,
   "id": "wicked-collins",
   "metadata": {},
   "outputs": [],
   "source": [
    "#vectorizing the data with TfidfVectorizer\n",
    "from sklearn.feature_extraction.text import TfidfVectorizer\n",
    "tf_vect = TfidfVectorizer(lowercase = True, stop_words = \"english\")"
   ]
  },
  {
   "cell_type": "code",
   "execution_count": 59,
   "id": "monetary-socket",
   "metadata": {},
   "outputs": [],
   "source": [
    "#transforming the data\n",
    "X_train_vect = tf_vect.fit_transform(X_train)\n",
    "X_test_vect = tf_vect.transform(X_test)"
   ]
  },
  {
   "cell_type": "markdown",
   "id": "stylish-transformation",
   "metadata": {},
   "source": [
    "## Building the model"
   ]
  },
  {
   "cell_type": "code",
   "execution_count": 71,
   "id": "dutch-training",
   "metadata": {},
   "outputs": [
    {
     "name": "stdout",
     "output_type": "stream",
     "text": [
      "              precision    recall  f1-score   support\n",
      "\n",
      "           0       0.95      0.97      0.96      4588\n",
      "           1       0.97      0.94      0.96      4392\n",
      "\n",
      "    accuracy                           0.96      8980\n",
      "   macro avg       0.96      0.96      0.96      8980\n",
      "weighted avg       0.96      0.96      0.96      8980\n",
      "\n"
     ]
    }
   ],
   "source": [
    "from sklearn.ensemble import RandomForestClassifier\n",
    "from sklearn.metrics import confusion_matrix, classification_report\n",
    "\n",
    "rf = RandomForestClassifier()\n",
    "rf.fit(X_train_vect, y_train)\n",
    "pred = rf.predict(X_test_vect)\n",
    "print(classification_report(pred, y_test))"
   ]
  },
  {
   "cell_type": "markdown",
   "id": "simplified-syria",
   "metadata": {},
   "source": [
    "It is seen from the classification report above that Random Forest performs well with the default parameters and there is no need to switch to the text of the news. Now let us move to the ROC curve in order to find the best threshold for binary classification."
   ]
  },
  {
   "cell_type": "code",
   "execution_count": 75,
   "id": "classical-blake",
   "metadata": {},
   "outputs": [],
   "source": [
    "#importing the library\n",
    "import scikitplot as skplt"
   ]
  },
  {
   "cell_type": "code",
   "execution_count": 76,
   "id": "negative-bonus",
   "metadata": {},
   "outputs": [],
   "source": [
    "from scikitplot.metrics import plot_roc_curve"
   ]
  },
  {
   "cell_type": "code",
   "execution_count": 82,
   "id": "welsh-prairie",
   "metadata": {},
   "outputs": [
    {
     "data": {
      "text/plain": [
       "<AxesSubplot:title={'center':'ROC Curves'}, xlabel='False Positive Rate', ylabel='True Positive Rate'>"
      ]
     },
     "execution_count": 82,
     "metadata": {},
     "output_type": "execute_result"
    },
    {
     "data": {
      "image/png": "[encoded data removed]",
      "text/plain": [
       "<Figure size 720x576 with 1 Axes>"
      ]
     },
     "metadata": {
      "needs_background": "light"
     },
     "output_type": "display_data"
    }
   ],
   "source": [
    "plot_roc_curve(y_test, rf.predict_proba(X_test_vect), figsize = (10, 8))"
   ]
  },
  {
   "cell_type": "code",
   "execution_count": 90,
   "id": "meaning-intelligence",
   "metadata": {},
   "outputs": [
    {
     "name": "stdout",
     "output_type": "stream",
     "text": [
      "Best Threshold = 0.53\n"
     ]
    }
   ],
   "source": [
    "#finding the best threshold\n",
    "from sklearn.metrics import roc_curve\n",
    "fpr, tpr, thresholds = roc_curve(y_test, rf.predict_proba(X_test_vect)[:, 1])\n",
    "# get the best threshold\n",
    "J = tpr - fpr\n",
    "ix = np.argmax(J)\n",
    "best_thresh = thresholds[ix]\n",
    "print(f'Best Threshold = {best_thresh}')"
   ]
  },
  {
   "cell_type": "code",
   "execution_count": 93,
   "id": "prostate-cover",
   "metadata": {},
   "outputs": [
    {
     "name": "stdout",
     "output_type": "stream",
     "text": [
      "              precision    recall  f1-score   support\n",
      "\n",
      "       False       0.95      0.97      0.96      4642\n",
      "        True       0.96      0.95      0.96      4338\n",
      "\n",
      "    accuracy                           0.96      8980\n",
      "   macro avg       0.96      0.96      0.96      8980\n",
      "weighted avg       0.96      0.96      0.96      8980\n",
      "\n"
     ]
    }
   ],
   "source": [
    "#checking the report under new threhold\n",
    "print(classification_report(((rf.predict_proba(X_test_vect)[:, 1]) > best_thresh), y_test))"
   ]
  },
  {
   "cell_type": "markdown",
   "id": "photographic-professional",
   "metadata": {},
   "source": [
    "Well, as the new threshold is only .03 higher than the default value, there is no large difference in the final predictions. Furthermore, the accuracy is still the same - 96% which seems to be pretty good result."
   ]
  },
  {
   "cell_type": "code",
   "execution_count": 102,
   "id": "extra-metadata",
   "metadata": {},
   "outputs": [
    {
     "data": {
      "text/plain": [
       "array([0, 1, 1, 0, 0, 1, 0, 1, 1, 1])"
      ]
     },
     "execution_count": 102,
     "metadata": {},
     "output_type": "execute_result"
    }
   ],
   "source": [
    "#final predictions\n",
    "final_prediction = pred\n",
    "final_prediction[:10]"
   ]
  },
  {
   "cell_type": "markdown",
   "id": "confused-violation",
   "metadata": {},
   "source": [
    "# Conclusion\n",
    "\n",
    "In this short project the model was built to detect whether the US news was fake or real. The dataset was transformed with the help of Tf-Idf transformer. Finally, the Random Forest hsa shown good accuracy of 96% on the validation set. Hence, the aim of predicting the nature of the news can be considered as achieved."
   ]
  },
  {
   "cell_type": "code",
   "execution_count": null,
   "id": "romance-center",
   "metadata": {},
   "outputs": [],
   "source": []
  }
 ],
 "metadata": {
  "kernelspec": {
   "display_name": "Python 3",
   "language": "python",
   "name": "python3"
  },
  "language_info": {
   "codemirror_mode": {
    "name": "ipython",
    "version": 3
   },
   "file_extension": ".py",
   "mimetype": "text/x-python",
   "name": "python",
   "nbconvert_exporter": "python",
   "pygments_lexer": "ipython3",
   "version": "3.8.3"
  }
 },
 "nbformat": 4,
 "nbformat_minor": 5
}
