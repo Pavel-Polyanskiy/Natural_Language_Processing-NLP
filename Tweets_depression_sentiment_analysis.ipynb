{
 "cells": [
  {
   "cell_type": "markdown",
   "id": "independent-batch",
   "metadata": {},
   "source": [
    "# Sentiment Analysis of Tweets and Depression Detection"
   ]
  },
  {
   "cell_type": "markdown",
   "id": "dirty-fourth",
   "metadata": {},
   "source": [
    "## Problem Statement\n",
    "\n",
    "\"Finding if a person is depressed from their use of words on social media can definitely help in the cure! Sentimental Analysis can be very useful to find out depression and cure it before someone gets into serious trouble.\" - so, the goal will be to predict whether the person has the depression based in his/her tweets."
   ]
  },
  {
   "cell_type": "markdown",
   "id": "ahead-eclipse",
   "metadata": {},
   "source": [
    "## Data\n",
    "\n",
    "**link** to Kaggle: https://www.kaggle.com/gargmanas/sentimental-analysis-for-tweets"
   ]
  },
  {
   "cell_type": "markdown",
   "id": "varied-firmware",
   "metadata": {},
   "source": [
    "## Project content\n",
    "\n",
    "1) Data Import\n",
    "\n",
    "2) Data Preprocessing\n",
    "\n",
    "3) Checking whether the data is imbalanced\n",
    "\n",
    "4) Vectorizing the data with CountVectorizer and TfidfVectorizer\n",
    "\n",
    "5) Building the SVM model\n",
    "\n",
    "6) Function for single predictions\n",
    "\n",
    "7) Conclusion"
   ]
  },
  {
   "cell_type": "markdown",
   "id": "infectious-intensity",
   "metadata": {},
   "source": [
    "## Data import "
   ]
  },
  {
   "cell_type": "code",
   "execution_count": 136,
   "id": "above-poison",
   "metadata": {},
   "outputs": [],
   "source": [
    "#importing all libraries\n",
    "import pandas as pd\n",
    "import numpy as np\n",
    "import seaborn as sns\n",
    "import matplotlib.pyplot as plt\n",
    "import nltk\n",
    "from nltk.stem import WordNetLemmatizer #for lemmatization\n",
    "from nltk.corpus import stopwords #english stopwords dataset\n",
    "from nltk.tokenize import word_tokenize, regexp_tokenize #tokenization of the words\n",
    "import regex as re #regular expressions"
   ]
  },
  {
   "cell_type": "code",
   "execution_count": 137,
   "id": "received-gravity",
   "metadata": {},
   "outputs": [],
   "source": [
    "df = pd.read_csv(\"/Users/polyanaboss/Downloads/sentiment_tweets3.csv\")"
   ]
  },
  {
   "cell_type": "code",
   "execution_count": 138,
   "id": "three-bridal",
   "metadata": {},
   "outputs": [
    {
     "data": {
      "text/html": [
       "<div>\n",
       "<style scoped>\n",
       "    .dataframe tbody tr th:only-of-type {\n",
       "        vertical-align: middle;\n",
       "    }\n",
       "\n",
       "    .dataframe tbody tr th {\n",
       "        vertical-align: top;\n",
       "    }\n",
       "\n",
       "    .dataframe thead th {\n",
       "        text-align: right;\n",
       "    }\n",
       "</style>\n",
       "<table border=\"1\" class=\"dataframe\">\n",
       "  <thead>\n",
       "    <tr style=\"text-align: right;\">\n",
       "      <th></th>\n",
       "      <th>Index</th>\n",
       "      <th>message to examine</th>\n",
       "      <th>label (depression result)</th>\n",
       "    </tr>\n",
       "  </thead>\n",
       "  <tbody>\n",
       "    <tr>\n",
       "      <th>0</th>\n",
       "      <td>106</td>\n",
       "      <td>just had a real good moment. i missssssssss hi...</td>\n",
       "      <td>0</td>\n",
       "    </tr>\n",
       "    <tr>\n",
       "      <th>1</th>\n",
       "      <td>217</td>\n",
       "      <td>is reading manga  http://plurk.com/p/mzp1e</td>\n",
       "      <td>0</td>\n",
       "    </tr>\n",
       "    <tr>\n",
       "      <th>2</th>\n",
       "      <td>220</td>\n",
       "      <td>@comeagainjen http://twitpic.com/2y2lx - http:...</td>\n",
       "      <td>0</td>\n",
       "    </tr>\n",
       "    <tr>\n",
       "      <th>3</th>\n",
       "      <td>288</td>\n",
       "      <td>@lapcat Need to send 'em to my accountant tomo...</td>\n",
       "      <td>0</td>\n",
       "    </tr>\n",
       "    <tr>\n",
       "      <th>4</th>\n",
       "      <td>540</td>\n",
       "      <td>ADD ME ON MYSPACE!!!  myspace.com/LookThunder</td>\n",
       "      <td>0</td>\n",
       "    </tr>\n",
       "  </tbody>\n",
       "</table>\n",
       "</div>"
      ],
      "text/plain": [
       "   Index                                 message to examine  \\\n",
       "0    106  just had a real good moment. i missssssssss hi...   \n",
       "1    217         is reading manga  http://plurk.com/p/mzp1e   \n",
       "2    220  @comeagainjen http://twitpic.com/2y2lx - http:...   \n",
       "3    288  @lapcat Need to send 'em to my accountant tomo...   \n",
       "4    540      ADD ME ON MYSPACE!!!  myspace.com/LookThunder   \n",
       "\n",
       "   label (depression result)  \n",
       "0                          0  \n",
       "1                          0  \n",
       "2                          0  \n",
       "3                          0  \n",
       "4                          0  "
      ]
     },
     "execution_count": 138,
     "metadata": {},
     "output_type": "execute_result"
    }
   ],
   "source": [
    "#looking at the first rows\n",
    "df.head()"
   ]
  },
  {
   "cell_type": "code",
   "execution_count": 139,
   "id": "serious-purpose",
   "metadata": {},
   "outputs": [
    {
     "data": {
      "text/plain": [
       "(10314, 3)"
      ]
     },
     "execution_count": 139,
     "metadata": {},
     "output_type": "execute_result"
    }
   ],
   "source": [
    "#number of rows and columns\n",
    "df.shape"
   ]
  },
  {
   "cell_type": "code",
   "execution_count": 140,
   "id": "institutional-lender",
   "metadata": {},
   "outputs": [],
   "source": [
    "#dropping unnecessary index column\n",
    "df.drop(\"Index\", axis = 1, inplace = True)"
   ]
  },
  {
   "cell_type": "code",
   "execution_count": 141,
   "id": "later-affiliation",
   "metadata": {},
   "outputs": [],
   "source": [
    "#renaming the columns for simplicity\n",
    "df.rename(columns = {\"message to examine\" : \"text\", \"label (depression result)\" : \"depression\"}, inplace = True)"
   ]
  },
  {
   "cell_type": "markdown",
   "id": "canadian-accuracy",
   "metadata": {},
   "source": [
    "## Data Preprocessing"
   ]
  },
  {
   "cell_type": "markdown",
   "id": "intense-major",
   "metadata": {},
   "source": [
    "The first thing that should be done is deletion of all mentions, links and hashtags from the data because it does not show any signs of depression."
   ]
  },
  {
   "cell_type": "code",
   "execution_count": 142,
   "id": "focused-landing",
   "metadata": {},
   "outputs": [],
   "source": [
    "import warnings\n",
    "warnings.filterwarnings(\"ignore\")\n",
    "#removing links\n",
    "for i in range(len(df)):\n",
    "    df[\"text\"][i] = re.sub(r\"http\\S+\", \"\",  df[\"text\"][i], flags=re.MULTILINE)"
   ]
  },
  {
   "cell_type": "code",
   "execution_count": 143,
   "id": "minor-client",
   "metadata": {},
   "outputs": [],
   "source": [
    "#removing mentions\n",
    "for i in range(len(df)):\n",
    "    df[\"text\"][i] = re.sub(r\"@\\S+\", \"\",  df[\"text\"][i], flags=re.MULTILINE)"
   ]
  },
  {
   "cell_type": "code",
   "execution_count": 144,
   "id": "secure-humanity",
   "metadata": {},
   "outputs": [],
   "source": [
    "#removing hashtags\n",
    "for i in range(len(df)):\n",
    "    df[\"text\"][i] = re.sub(r\"#\\S+\", \"\",  df[\"text\"][i], flags=re.MULTILINE)"
   ]
  },
  {
   "cell_type": "code",
   "execution_count": 145,
   "id": "graphic-channel",
   "metadata": {},
   "outputs": [
    {
     "data": {
      "text/html": [
       "<div>\n",
       "<style scoped>\n",
       "    .dataframe tbody tr th:only-of-type {\n",
       "        vertical-align: middle;\n",
       "    }\n",
       "\n",
       "    .dataframe tbody tr th {\n",
       "        vertical-align: top;\n",
       "    }\n",
       "\n",
       "    .dataframe thead th {\n",
       "        text-align: right;\n",
       "    }\n",
       "</style>\n",
       "<table border=\"1\" class=\"dataframe\">\n",
       "  <thead>\n",
       "    <tr style=\"text-align: right;\">\n",
       "      <th></th>\n",
       "      <th>text</th>\n",
       "      <th>depression</th>\n",
       "    </tr>\n",
       "  </thead>\n",
       "  <tbody>\n",
       "    <tr>\n",
       "      <th>0</th>\n",
       "      <td>just had a real good moment. i missssssssss hi...</td>\n",
       "      <td>0</td>\n",
       "    </tr>\n",
       "    <tr>\n",
       "      <th>1</th>\n",
       "      <td>is reading manga</td>\n",
       "      <td>0</td>\n",
       "    </tr>\n",
       "    <tr>\n",
       "      <th>2</th>\n",
       "      <td>-</td>\n",
       "      <td>0</td>\n",
       "    </tr>\n",
       "    <tr>\n",
       "      <th>3</th>\n",
       "      <td>Need to send 'em to my accountant tomorrow. O...</td>\n",
       "      <td>0</td>\n",
       "    </tr>\n",
       "    <tr>\n",
       "      <th>4</th>\n",
       "      <td>ADD ME ON MYSPACE!!!  myspace.com/LookThunder</td>\n",
       "      <td>0</td>\n",
       "    </tr>\n",
       "  </tbody>\n",
       "</table>\n",
       "</div>"
      ],
      "text/plain": [
       "                                                text  depression\n",
       "0  just had a real good moment. i missssssssss hi...           0\n",
       "1                                 is reading manga             0\n",
       "2                                                -             0\n",
       "3   Need to send 'em to my accountant tomorrow. O...           0\n",
       "4      ADD ME ON MYSPACE!!!  myspace.com/LookThunder           0"
      ]
     },
     "execution_count": 145,
     "metadata": {},
     "output_type": "execute_result"
    }
   ],
   "source": [
    "#checking the result\n",
    "df.head()"
   ]
  },
  {
   "cell_type": "markdown",
   "id": "certified-discretion",
   "metadata": {},
   "source": [
    "One can notice that there can be the case like in the 3rd row in text column that there is no relevant information presented after all cleaning processes. Lets find out the total number of texts similar to this issue."
   ]
  },
  {
   "cell_type": "code",
   "execution_count": 146,
   "id": "fitting-transaction",
   "metadata": {},
   "outputs": [
    {
     "data": {
      "text/plain": [
       "102"
      ]
     },
     "execution_count": 146,
     "metadata": {},
     "output_type": "execute_result"
    }
   ],
   "source": [
    "#total number of observations\n",
    "c = 0\n",
    "short = []\n",
    "short_indices = []\n",
    "for i in range(len(df)):\n",
    "     if len(df['text'][i]) < 10:\n",
    "        short.append(df['text'][i])\n",
    "        short_indices.append(i)\n",
    "        c += 1\n",
    "               \n",
    "c"
   ]
  },
  {
   "cell_type": "markdown",
   "id": "chemical-screen",
   "metadata": {},
   "source": [
    "In total, there are 102 tweets with the length less than 10 characters. "
   ]
  },
  {
   "cell_type": "code",
   "execution_count": 147,
   "id": "alternate-cleaner",
   "metadata": {},
   "outputs": [
    {
     "data": {
      "text/plain": [
       "['  -  ',\n",
       " ' ',\n",
       " 'around. ',\n",
       " ' nothing ',\n",
       " ' thanks ',\n",
       " ' ',\n",
       " ' Nope. ',\n",
       " '  awww! ',\n",
       " 'bed time ',\n",
       " ' it is. ']"
      ]
     },
     "execution_count": 147,
     "metadata": {},
     "output_type": "execute_result"
    }
   ],
   "source": [
    "#looking at the short tweets, there is no sence and need in them, we will drop them\n",
    "short[:10]"
   ]
  },
  {
   "cell_type": "code",
   "execution_count": 148,
   "id": "knowing-negotiation",
   "metadata": {},
   "outputs": [],
   "source": [
    "#removing short tweets\n",
    "df.drop(index = short_indices, axis = 0, inplace = True)"
   ]
  },
  {
   "cell_type": "markdown",
   "id": "central-pendant",
   "metadata": {},
   "source": [
    "### Checking whether the data is imbalanced\n",
    "\n",
    "One more problem can be connected with probable imbalance in the label distribution. We will figure it out via plots."
   ]
  },
  {
   "cell_type": "code",
   "execution_count": 149,
   "id": "amazing-october",
   "metadata": {},
   "outputs": [
    {
     "data": {
      "text/plain": [
       "Text(0.5, 1.0, 'Ratio of depressed and happy people')"
      ]
     },
     "execution_count": 149,
     "metadata": {},
     "output_type": "execute_result"
    },
    {
     "data": {
      "image/png": "[encoded data removed]",
      "text/plain": [
       "<Figure size 720x576 with 1 Axes>"
      ]
     },
     "metadata": {
      "needs_background": "light"
     },
     "output_type": "display_data"
    }
   ],
   "source": [
    "#plotting the labels\n",
    "plt.figure(figsize = (10, 8))\n",
    "sns.countplot(df[\"depression\"])\n",
    "plt.title(\"Ratio of depressed and happy people\")"
   ]
  },
  {
   "cell_type": "code",
   "execution_count": 150,
   "id": "hindu-aruba",
   "metadata": {},
   "outputs": [
    {
     "name": "stdout",
     "output_type": "stream",
     "text": [
      "Percentage of depressed people: 22.63%\n"
     ]
    }
   ],
   "source": [
    "###ratio of depressed people\n",
    "dep_prop = np.round(((len(df[df[\"depression\"] == 1])/ len(df)) * 100), 2)\n",
    "print(f\"Percentage of depressed people: {dep_prop}%\")"
   ]
  },
  {
   "cell_type": "markdown",
   "id": "earned-study",
   "metadata": {},
   "source": [
    "It is not obvious whether 1/4 can be considered as imbalanced data. Hence, we will try both variants: the data as it is and the data after oversampling is used."
   ]
  },
  {
   "cell_type": "markdown",
   "id": "corporate-shade",
   "metadata": {},
   "source": [
    "## Splitting the data into train and test sets"
   ]
  },
  {
   "cell_type": "code",
   "execution_count": 151,
   "id": "civilian-raise",
   "metadata": {},
   "outputs": [],
   "source": [
    "from sklearn.model_selection import train_test_split"
   ]
  },
  {
   "cell_type": "code",
   "execution_count": 152,
   "id": "committed-facing",
   "metadata": {},
   "outputs": [],
   "source": [
    "#dependent and independent variables \n",
    "X = df[\"text\"]\n",
    "y = df[\"depression\"]"
   ]
  },
  {
   "cell_type": "code",
   "execution_count": 153,
   "id": "alike-format",
   "metadata": {},
   "outputs": [],
   "source": [
    "#reshuffling the data\n",
    "from sklearn.utils import shuffle\n",
    "X, y = shuffle(X, y)"
   ]
  },
  {
   "cell_type": "code",
   "execution_count": 154,
   "id": "skilled-manner",
   "metadata": {},
   "outputs": [],
   "source": [
    "X_train, X_test, y_train, y_test = train_test_split(X, y, test_size = 0.2, stratify = y)"
   ]
  },
  {
   "cell_type": "code",
   "execution_count": 155,
   "id": "leading-medicare",
   "metadata": {},
   "outputs": [
    {
     "name": "stdout",
     "output_type": "stream",
     "text": [
      "(8169,) (2043,)\n"
     ]
    }
   ],
   "source": [
    "#checking the new shapes\n",
    "print(X_train.shape, X_test.shape)"
   ]
  },
  {
   "cell_type": "markdown",
   "id": "superior-myanmar",
   "metadata": {},
   "source": [
    "## Vectorizing the data\n",
    "\n",
    "The next step is to convert the words into vectors. For this, we will use to approaches: CountVectorizer and TfIdfVectorizer.The first is simply counting the words and the second one is computing the frequency of the word in the document and in the whole text."
   ]
  },
  {
   "cell_type": "code",
   "execution_count": 156,
   "id": "brutal-mother",
   "metadata": {},
   "outputs": [],
   "source": [
    "#Count Vectorizer\n",
    "from sklearn.feature_extraction.text import CountVectorizer\n",
    "count_vect = CountVectorizer(lowercase = True, stop_words = 'english')"
   ]
  },
  {
   "cell_type": "code",
   "execution_count": 157,
   "id": "lesbian-slovak",
   "metadata": {},
   "outputs": [],
   "source": [
    "#transforming train and test sets\n",
    "X_train_count = count_vect.fit_transform(X_train)\n",
    "X_test_count = count_vect.transform(X_test)"
   ]
  },
  {
   "cell_type": "code",
   "execution_count": 158,
   "id": "confirmed-guarantee",
   "metadata": {},
   "outputs": [
    {
     "name": "stdout",
     "output_type": "stream",
     "text": [
      "(8169, 13113) (2043, 13113)\n"
     ]
    }
   ],
   "source": [
    "#checking the new shapes\n",
    "print(X_train_count.shape, X_test_count.shape)"
   ]
  },
  {
   "cell_type": "code",
   "execution_count": 159,
   "id": "center-morgan",
   "metadata": {},
   "outputs": [],
   "source": [
    "#TF-IDF Vectorizer\n",
    "from sklearn.feature_extraction.text import TfidfVectorizer\n",
    "tf_vect = TfidfVectorizer(lowercase = True, stop_words = 'english')"
   ]
  },
  {
   "cell_type": "code",
   "execution_count": 160,
   "id": "rotary-pharmacy",
   "metadata": {},
   "outputs": [],
   "source": [
    "#transforming train and test sets\n",
    "X_train_tf = tf_vect.fit_transform(X_train)\n",
    "X_test_tf = tf_vect.transform(X_test)"
   ]
  },
  {
   "cell_type": "code",
   "execution_count": 161,
   "id": "incident-fisher",
   "metadata": {},
   "outputs": [
    {
     "name": "stdout",
     "output_type": "stream",
     "text": [
      "(8169, 13113) (2043, 13113)\n"
     ]
    }
   ],
   "source": [
    "#checking the new shapes\n",
    "print(X_train_tf.shape, X_test_tf.shape)"
   ]
  },
  {
   "cell_type": "markdown",
   "id": "nominated-daniel",
   "metadata": {},
   "source": [
    "### Oversampling"
   ]
  },
  {
   "cell_type": "code",
   "execution_count": 162,
   "id": "tested-morris",
   "metadata": {},
   "outputs": [],
   "source": [
    "# oversampling the data\n",
    "import imblearn\n",
    "from imblearn.over_sampling import RandomOverSampler\n",
    "over_sampler = RandomOverSampler(random_state= 0, sampling_strategy = 0.8)\n",
    "X_train_over_count, y_train_over_count = over_sampler.fit_sample(X_train_count, y_train)"
   ]
  },
  {
   "cell_type": "code",
   "execution_count": 163,
   "id": "intended-penny",
   "metadata": {},
   "outputs": [
    {
     "name": "stdout",
     "output_type": "stream",
     "text": [
      "0    6320\n",
      "1    5056\n",
      "Name: depression, dtype: int64\n"
     ]
    }
   ],
   "source": [
    "#values after resampling\n",
    "print(y_train_over_count.value_counts())"
   ]
  },
  {
   "cell_type": "code",
   "execution_count": 164,
   "id": "dimensional-batman",
   "metadata": {},
   "outputs": [
    {
     "name": "stdout",
     "output_type": "stream",
     "text": [
      "0    6320\n",
      "1    5056\n",
      "Name: depression, dtype: int64\n"
     ]
    }
   ],
   "source": [
    "#the same for tf-idf data\n",
    "X_train_over_tf, y_train_over_tf = over_sampler.fit_sample(X_train_tf, y_train)\n",
    "#values after resampling\n",
    "print(y_train_over_tf.value_counts())"
   ]
  },
  {
   "cell_type": "markdown",
   "id": "center-watch",
   "metadata": {},
   "source": [
    "## Building the model\n",
    "\n",
    "Now the data is ready to be used as an input for ML models."
   ]
  },
  {
   "cell_type": "code",
   "execution_count": 165,
   "id": "greater-europe",
   "metadata": {},
   "outputs": [],
   "source": [
    "#importing metrics\n",
    "from sklearn.metrics import accuracy_score, classification_report"
   ]
  },
  {
   "cell_type": "code",
   "execution_count": 166,
   "id": "located-debate",
   "metadata": {},
   "outputs": [
    {
     "name": "stdout",
     "output_type": "stream",
     "text": [
      "              precision    recall  f1-score   support\n",
      "\n",
      "           0       1.00      0.98      0.99      1609\n",
      "           1       0.94      1.00      0.96       434\n",
      "\n",
      "    accuracy                           0.98      2043\n",
      "   macro avg       0.97      0.99      0.98      2043\n",
      "weighted avg       0.99      0.98      0.98      2043\n",
      "\n"
     ]
    }
   ],
   "source": [
    "#Support Vector Machine\n",
    "from sklearn.svm import SVC\n",
    "svm = SVC()\n",
    "svm.fit(X_train_count, y_train)\n",
    "print(classification_report(svm.predict(X_test_count), y_test))"
   ]
  },
  {
   "cell_type": "code",
   "execution_count": 167,
   "id": "outdoor-format",
   "metadata": {},
   "outputs": [
    {
     "name": "stdout",
     "output_type": "stream",
     "text": [
      "              precision    recall  f1-score   support\n",
      "\n",
      "           0       1.00      0.98      0.99      1607\n",
      "           1       0.94      1.00      0.97       436\n",
      "\n",
      "    accuracy                           0.99      2043\n",
      "   macro avg       0.97      0.99      0.98      2043\n",
      "weighted avg       0.99      0.99      0.99      2043\n",
      "\n"
     ]
    }
   ],
   "source": [
    "#Support Vector Machine\n",
    "from sklearn.svm import SVC\n",
    "svm = SVC()\n",
    "svm.fit(X_train_tf, y_train)\n",
    "print(classification_report(svm.predict(X_test_tf), y_test))"
   ]
  },
  {
   "cell_type": "markdown",
   "id": "encouraging-passenger",
   "metadata": {},
   "source": [
    "Well, the point is that the data occured to be pretty easy for the Machine Learning Algorithms which can definitely state whether twitter user has depression or not. Of cource, no oversampling is required in this case."
   ]
  },
  {
   "cell_type": "code",
   "execution_count": 176,
   "id": "waiting-craft",
   "metadata": {},
   "outputs": [],
   "source": [
    "#defining the function for single prediction\n",
    "def depression_detection(tweet):\n",
    "    #transforming the data\n",
    "    tweet_vect = tf_vect.transform([tweet])\n",
    "    #predicting\n",
    "    pred = svm.predict(tweet_vect)\n",
    "    if pred == 0:\n",
    "        print(\"No depression!\")\n",
    "    else:\n",
    "        print(\"You'd rather visit the doctor!\")"
   ]
  },
  {
   "cell_type": "code",
   "execution_count": 177,
   "id": "associate-times",
   "metadata": {},
   "outputs": [
    {
     "name": "stdout",
     "output_type": "stream",
     "text": [
      "You'd rather visit the doctor!\n"
     ]
    }
   ],
   "source": [
    "#examples\n",
    "depression_detection(\"i have depression\")"
   ]
  },
  {
   "cell_type": "code",
   "execution_count": 178,
   "id": "secret-single",
   "metadata": {},
   "outputs": [
    {
     "name": "stdout",
     "output_type": "stream",
     "text": [
      "No depression!\n"
     ]
    }
   ],
   "source": [
    "depression_detection(\"Have a nice day!\")"
   ]
  },
  {
   "cell_type": "markdown",
   "id": "adaptive-recommendation",
   "metadata": {},
   "source": [
    "# Conclusion\n",
    "\n",
    "We have analyzed the dataset with tweets and detected whether people are having depression or not. Occasionally, SVM model gave 99% accuracy without even being somewhat tuned. However, even for more complex datasets the algorithm of actions will be the same. Hence, the goal can be marked as achieved. "
   ]
  },
  {
   "cell_type": "code",
   "execution_count": null,
   "id": "challenging-dating",
   "metadata": {},
   "outputs": [],
   "source": []
  }
 ],
 "metadata": {
  "kernelspec": {
   "display_name": "Python 3",
   "language": "python",
   "name": "python3"
  },
  "language_info": {
   "codemirror_mode": {
    "name": "ipython",
    "version": 3
   },
   "file_extension": ".py",
   "mimetype": "text/x-python",
   "name": "python",
   "nbconvert_exporter": "python",
   "pygments_lexer": "ipython3",
   "version": "3.8.3"
  }
 },
 "nbformat": 4,
 "nbformat_minor": 5
}
